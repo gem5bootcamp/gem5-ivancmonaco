{
 "cells": [
  {
   "cell_type": "markdown",
   "id": "3b57b4e2-e77c-47f4-8515-14ee8b1ebecc",
   "metadata": {},
   "source": [
    "## Author\n",
    "Ivan Monaco (ivancmonaco@gmail.com)"
   ]
  },
  {
   "cell_type": "markdown",
   "id": "17a1d3d6-ae07-4747-923e-2ee55f4a0f49",
   "metadata": {},
   "source": [
    "# Results\n",
    "## Hardware Results\n",
    "\n",
    "Lets first load up and build tables for all our results.\n",
    "\n",
    "All tests were ran in a x86 native 12-core processor running Ubuntu 22.x.y.\n",
    "They were ran 100 times and the average was taken.\n",
    "\n",
    "The following table shows which tests was run (Thread configuration + number of cores) and how long does it take to complete, in ascending order (lower is better).\n",
    "\n"
   ]
  },
  {
   "cell_type": "code",
   "execution_count": 103,
   "id": "1fb075f1-7412-4d79-8ac4-4af60dc7458d",
   "metadata": {},
   "outputs": [
    {
     "data": {
      "text/html": [
       "<div>\n",
       "<style scoped>\n",
       "    .dataframe tbody tr th:only-of-type {\n",
       "        vertical-align: middle;\n",
       "    }\n",
       "\n",
       "    .dataframe tbody tr th {\n",
       "        vertical-align: top;\n",
       "    }\n",
       "\n",
       "    .dataframe thead th {\n",
       "        text-align: right;\n",
       "    }\n",
       "</style>\n",
       "<table border=\"1\" class=\"dataframe\">\n",
       "  <thead>\n",
       "    <tr style=\"text-align: right;\">\n",
       "      <th></th>\n",
       "      <th>Test</th>\n",
       "      <th>Cores</th>\n",
       "      <th>Average Time (ms)</th>\n",
       "    </tr>\n",
       "  </thead>\n",
       "  <tbody>\n",
       "    <tr>\n",
       "      <th>0</th>\n",
       "      <td>Block race opt</td>\n",
       "      <td>4</td>\n",
       "      <td>0.220384</td>\n",
       "    </tr>\n",
       "    <tr>\n",
       "      <th>1</th>\n",
       "      <td>All opt</td>\n",
       "      <td>4</td>\n",
       "      <td>0.226861</td>\n",
       "    </tr>\n",
       "    <tr>\n",
       "      <th>2</th>\n",
       "      <td>Block race opt</td>\n",
       "      <td>2</td>\n",
       "      <td>0.229220</td>\n",
       "    </tr>\n",
       "    <tr>\n",
       "      <th>3</th>\n",
       "      <td>All opt</td>\n",
       "      <td>2</td>\n",
       "      <td>0.244881</td>\n",
       "    </tr>\n",
       "    <tr>\n",
       "      <th>4</th>\n",
       "      <td>Naive</td>\n",
       "      <td>1</td>\n",
       "      <td>0.323143</td>\n",
       "    </tr>\n",
       "    <tr>\n",
       "      <th>5</th>\n",
       "      <td>Res race opt</td>\n",
       "      <td>1</td>\n",
       "      <td>0.326467</td>\n",
       "    </tr>\n",
       "    <tr>\n",
       "      <th>6</th>\n",
       "      <td>Block race opt</td>\n",
       "      <td>1</td>\n",
       "      <td>0.329142</td>\n",
       "    </tr>\n",
       "    <tr>\n",
       "      <th>7</th>\n",
       "      <td>Chunking res race opt</td>\n",
       "      <td>1</td>\n",
       "      <td>0.332100</td>\n",
       "    </tr>\n",
       "    <tr>\n",
       "      <th>8</th>\n",
       "      <td>Chunking</td>\n",
       "      <td>1</td>\n",
       "      <td>0.332399</td>\n",
       "    </tr>\n",
       "    <tr>\n",
       "      <th>9</th>\n",
       "      <td>All opt</td>\n",
       "      <td>1</td>\n",
       "      <td>0.337583</td>\n",
       "    </tr>\n",
       "    <tr>\n",
       "      <th>10</th>\n",
       "      <td>Block race opt</td>\n",
       "      <td>8</td>\n",
       "      <td>0.341541</td>\n",
       "    </tr>\n",
       "    <tr>\n",
       "      <th>11</th>\n",
       "      <td>All opt</td>\n",
       "      <td>8</td>\n",
       "      <td>0.356096</td>\n",
       "    </tr>\n",
       "    <tr>\n",
       "      <th>12</th>\n",
       "      <td>All opt</td>\n",
       "      <td>12</td>\n",
       "      <td>0.406281</td>\n",
       "    </tr>\n",
       "    <tr>\n",
       "      <th>13</th>\n",
       "      <td>Block race opt</td>\n",
       "      <td>12</td>\n",
       "      <td>0.414171</td>\n",
       "    </tr>\n",
       "    <tr>\n",
       "      <th>14</th>\n",
       "      <td>Chunking res race opt</td>\n",
       "      <td>2</td>\n",
       "      <td>0.580947</td>\n",
       "    </tr>\n",
       "    <tr>\n",
       "      <th>15</th>\n",
       "      <td>Res race opt</td>\n",
       "      <td>2</td>\n",
       "      <td>0.587572</td>\n",
       "    </tr>\n",
       "    <tr>\n",
       "      <th>16</th>\n",
       "      <td>Naive</td>\n",
       "      <td>2</td>\n",
       "      <td>0.595884</td>\n",
       "    </tr>\n",
       "    <tr>\n",
       "      <th>17</th>\n",
       "      <td>Chunking</td>\n",
       "      <td>2</td>\n",
       "      <td>0.610594</td>\n",
       "    </tr>\n",
       "    <tr>\n",
       "      <th>18</th>\n",
       "      <td>Chunking</td>\n",
       "      <td>4</td>\n",
       "      <td>0.630850</td>\n",
       "    </tr>\n",
       "    <tr>\n",
       "      <th>19</th>\n",
       "      <td>Chunking res race opt</td>\n",
       "      <td>4</td>\n",
       "      <td>0.633819</td>\n",
       "    </tr>\n",
       "    <tr>\n",
       "      <th>20</th>\n",
       "      <td>Chunking res race opt</td>\n",
       "      <td>12</td>\n",
       "      <td>0.639322</td>\n",
       "    </tr>\n",
       "    <tr>\n",
       "      <th>21</th>\n",
       "      <td>Naive</td>\n",
       "      <td>4</td>\n",
       "      <td>0.645525</td>\n",
       "    </tr>\n",
       "    <tr>\n",
       "      <th>22</th>\n",
       "      <td>Chunking</td>\n",
       "      <td>8</td>\n",
       "      <td>0.646897</td>\n",
       "    </tr>\n",
       "    <tr>\n",
       "      <th>23</th>\n",
       "      <td>Naive</td>\n",
       "      <td>8</td>\n",
       "      <td>0.648690</td>\n",
       "    </tr>\n",
       "    <tr>\n",
       "      <th>24</th>\n",
       "      <td>Naive</td>\n",
       "      <td>12</td>\n",
       "      <td>0.649543</td>\n",
       "    </tr>\n",
       "    <tr>\n",
       "      <th>25</th>\n",
       "      <td>Res race opt</td>\n",
       "      <td>4</td>\n",
       "      <td>0.652155</td>\n",
       "    </tr>\n",
       "    <tr>\n",
       "      <th>26</th>\n",
       "      <td>Chunking</td>\n",
       "      <td>12</td>\n",
       "      <td>0.655746</td>\n",
       "    </tr>\n",
       "    <tr>\n",
       "      <th>27</th>\n",
       "      <td>Chunking res race opt</td>\n",
       "      <td>8</td>\n",
       "      <td>0.662393</td>\n",
       "    </tr>\n",
       "    <tr>\n",
       "      <th>28</th>\n",
       "      <td>Res race opt</td>\n",
       "      <td>12</td>\n",
       "      <td>0.668676</td>\n",
       "    </tr>\n",
       "    <tr>\n",
       "      <th>29</th>\n",
       "      <td>Res race opt</td>\n",
       "      <td>8</td>\n",
       "      <td>0.676898</td>\n",
       "    </tr>\n",
       "  </tbody>\n",
       "</table>\n",
       "</div>"
      ],
      "text/plain": [
       "                     Test Cores  Average Time (ms)\n",
       "0          Block race opt     4           0.220384\n",
       "1                 All opt     4           0.226861\n",
       "2          Block race opt     2           0.229220\n",
       "3                 All opt     2           0.244881\n",
       "4                   Naive     1           0.323143\n",
       "5            Res race opt     1           0.326467\n",
       "6          Block race opt     1           0.329142\n",
       "7   Chunking res race opt     1           0.332100\n",
       "8                Chunking     1           0.332399\n",
       "9                 All opt     1           0.337583\n",
       "10         Block race opt     8           0.341541\n",
       "11                All opt     8           0.356096\n",
       "12                All opt    12           0.406281\n",
       "13         Block race opt    12           0.414171\n",
       "14  Chunking res race opt     2           0.580947\n",
       "15           Res race opt     2           0.587572\n",
       "16                  Naive     2           0.595884\n",
       "17               Chunking     2           0.610594\n",
       "18               Chunking     4           0.630850\n",
       "19  Chunking res race opt     4           0.633819\n",
       "20  Chunking res race opt    12           0.639322\n",
       "21                  Naive     4           0.645525\n",
       "22               Chunking     8           0.646897\n",
       "23                  Naive     8           0.648690\n",
       "24                  Naive    12           0.649543\n",
       "25           Res race opt     4           0.652155\n",
       "26               Chunking    12           0.655746\n",
       "27  Chunking res race opt     8           0.662393\n",
       "28           Res race opt    12           0.668676\n",
       "29           Res race opt     8           0.676898"
      ]
     },
     "execution_count": 103,
     "metadata": {},
     "output_type": "execute_result"
    }
   ],
   "source": [
    "import pandas as pd\n",
    "import os\n",
    "import glob\n",
    "\n",
    "results_path = f\"{os.getcwd()}/results\"\n",
    " \n",
    "results = []\n",
    "\n",
    "files = os.listdir(f\"{results_path}/native\")\n",
    "\n",
    "for file in files:\n",
    "    \n",
    "    df = pd.read_csv(f\"{results_path}/native/{file}\", delimiter=\" \", header=None, names=[\"Label\", \"Value\", \"Unit\"])\n",
    "\n",
    "    df[\"NumericValue\"] = df[\"Value\"].astype(float)\n",
    "    average_time = df[\"NumericValue\"].mean()\n",
    "\n",
    "    name = file.split(\"/\")[-1].split(\".\")[0]\n",
    "    cores = name.split(\"-\")[-1]\n",
    "    name = \" \".join(name.split(\"-\")[:-2]).capitalize()\n",
    "\n",
    "    results.append({\"Test\": name, \"Cores\": cores , \"Average Time (ms)\": average_time})\n",
    "\n",
    "native_df = pd.DataFrame(results).sort_values(by=\"Average Time (ms)\")\n",
    "native_df = native_df.reset_index()\n",
    "native_df = native_df.drop(['index'],axis=1)\n",
    "\n",
    "native_df\n"
   ]
  },
  {
   "cell_type": "markdown",
   "id": "10cafc91-ca1d-4a70-a206-28bd72ae1861",
   "metadata": {},
   "source": [
    "Now, with this data we can try to answer the first 3 questions"
   ]
  },
  {
   "cell_type": "markdown",
   "id": "b69b4bd3-f745-4ffc-bebe-357350b6de7d",
   "metadata": {},
   "source": [
    "### Question 1 \n",
    "#### For algorithm 1, does increasing the number of threads improve performance or hurt performance? Use data to back up your answer."
   ]
  },
  {
   "cell_type": "markdown",
   "id": "d5331605-8b55-466d-a810-8c1afbe6d6f9",
   "metadata": {},
   "source": [
    "Lets filter out only the first and sixth algorithm (Naive and All optimizations)"
   ]
  },
  {
   "cell_type": "code",
   "execution_count": 104,
   "id": "abce65ed-dca2-4a04-8ad3-7e8b7a53ca3d",
   "metadata": {},
   "outputs": [
    {
     "data": {
      "text/html": [
       "<div>\n",
       "<style scoped>\n",
       "    .dataframe tbody tr th:only-of-type {\n",
       "        vertical-align: middle;\n",
       "    }\n",
       "\n",
       "    .dataframe tbody tr th {\n",
       "        vertical-align: top;\n",
       "    }\n",
       "\n",
       "    .dataframe thead th {\n",
       "        text-align: right;\n",
       "    }\n",
       "</style>\n",
       "<table border=\"1\" class=\"dataframe\">\n",
       "  <thead>\n",
       "    <tr style=\"text-align: right;\">\n",
       "      <th></th>\n",
       "      <th>Test</th>\n",
       "      <th>Cores</th>\n",
       "      <th>Average Time (ms)</th>\n",
       "    </tr>\n",
       "  </thead>\n",
       "  <tbody>\n",
       "    <tr>\n",
       "      <th>1</th>\n",
       "      <td>All opt</td>\n",
       "      <td>4</td>\n",
       "      <td>0.226861</td>\n",
       "    </tr>\n",
       "    <tr>\n",
       "      <th>3</th>\n",
       "      <td>All opt</td>\n",
       "      <td>2</td>\n",
       "      <td>0.244881</td>\n",
       "    </tr>\n",
       "    <tr>\n",
       "      <th>4</th>\n",
       "      <td>Naive</td>\n",
       "      <td>1</td>\n",
       "      <td>0.323143</td>\n",
       "    </tr>\n",
       "    <tr>\n",
       "      <th>9</th>\n",
       "      <td>All opt</td>\n",
       "      <td>1</td>\n",
       "      <td>0.337583</td>\n",
       "    </tr>\n",
       "    <tr>\n",
       "      <th>11</th>\n",
       "      <td>All opt</td>\n",
       "      <td>8</td>\n",
       "      <td>0.356096</td>\n",
       "    </tr>\n",
       "    <tr>\n",
       "      <th>12</th>\n",
       "      <td>All opt</td>\n",
       "      <td>12</td>\n",
       "      <td>0.406281</td>\n",
       "    </tr>\n",
       "    <tr>\n",
       "      <th>16</th>\n",
       "      <td>Naive</td>\n",
       "      <td>2</td>\n",
       "      <td>0.595884</td>\n",
       "    </tr>\n",
       "    <tr>\n",
       "      <th>21</th>\n",
       "      <td>Naive</td>\n",
       "      <td>4</td>\n",
       "      <td>0.645525</td>\n",
       "    </tr>\n",
       "    <tr>\n",
       "      <th>23</th>\n",
       "      <td>Naive</td>\n",
       "      <td>8</td>\n",
       "      <td>0.648690</td>\n",
       "    </tr>\n",
       "    <tr>\n",
       "      <th>24</th>\n",
       "      <td>Naive</td>\n",
       "      <td>12</td>\n",
       "      <td>0.649543</td>\n",
       "    </tr>\n",
       "  </tbody>\n",
       "</table>\n",
       "</div>"
      ],
      "text/plain": [
       "       Test Cores  Average Time (ms)\n",
       "1   All opt     4           0.226861\n",
       "3   All opt     2           0.244881\n",
       "4     Naive     1           0.323143\n",
       "9   All opt     1           0.337583\n",
       "11  All opt     8           0.356096\n",
       "12  All opt    12           0.406281\n",
       "16    Naive     2           0.595884\n",
       "21    Naive     4           0.645525\n",
       "23    Naive     8           0.648690\n",
       "24    Naive    12           0.649543"
      ]
     },
     "execution_count": 104,
     "metadata": {},
     "output_type": "execute_result"
    }
   ],
   "source": [
    "q_1 = native_df.query(\"Test == 'Naive' or Test == 'All opt'\")\n",
    "q_1"
   ]
  },
  {
   "cell_type": "markdown",
   "id": "57d6f0b0-a187-411b-ad47-4ac258d02709",
   "metadata": {},
   "source": [
    "Being the algorithm 1 , the 'Naive' implementation, we can see that the test with just 1 thread did pretty much better than the threaded implementation.\n"
   ]
  },
  {
   "cell_type": "markdown",
   "id": "d7ac1b8f-24ce-4e11-8efb-4b8115bd8657",
   "metadata": {},
   "source": [
    "Naive algorithm took double the time to complete comparing runs with 1 and with 12 cores.\n",
    "With this data we can assert that the thread count increase, actually hurt algorithm 1 performance."
   ]
  },
  {
   "cell_type": "markdown",
   "id": "d8fe0bbd-99c4-42ff-9676-e58ce196a5b2",
   "metadata": {},
   "source": [
    "### Question 2"
   ]
  },
  {
   "cell_type": "markdown",
   "id": "a785e916-96fa-4ffd-a4d8-a02ddfaeee34",
   "metadata": {},
   "source": [
    "#### (a) For algorithm 6, does increasing the number of threads improve performance or hurt performance? Use data to back up your answer."
   ]
  },
  {
   "cell_type": "markdown",
   "id": "fe636803-a618-419f-b917-e4fc19a441ed",
   "metadata": {},
   "source": [
    "In the other hand, Algorithm 6 (all optimizations enabled), did much better when increasing the thread count, but up to 4, then the trend reverted, and behaved like the naive algorithm."
   ]
  },
  {
   "cell_type": "markdown",
   "id": "5c36ffd4-f53d-450b-91dc-db47c2c631a0",
   "metadata": {},
   "source": [
    "#### (b) What is the speedup when you use 2, 4, 8, and 16 threads (only answer with up to the number of cores on your system)."
   ]
  },
  {
   "cell_type": "markdown",
   "id": "4cd24068-3b7e-43a9-9fee-6ec9e52de0d0",
   "metadata": {},
   "source": [
    "- 1 thread  : 100% performance.\n",
    "- 2 threads : 128% performance.\n",
    "- 4 threads : 133% performance.\n",
    "- 8 threads :  95% performance.\n",
    "- 12 threads:  83% performance."
   ]
  },
  {
   "cell_type": "markdown",
   "id": "0b053a87-0c0d-4e1c-8c46-ca503b06c662",
   "metadata": {},
   "source": [
    "### Question 3"
   ]
  },
  {
   "cell_type": "markdown",
   "id": "fd0cc16b-668b-462d-b17a-39d75b0c0a5a",
   "metadata": {},
   "source": [
    "#### (a) Using the data for all 6 algorithms, what is the most important optimization, chunking the array, using different result addresses, or putting padding between the result addresses?"
   ]
  },
  {
   "cell_type": "markdown",
   "id": "819112b8-b8ab-4b8e-98cc-e2b2b644ca82",
   "metadata": {},
   "source": [
    "Assuming based on (2) that the ideal amount of threads for this experiment is 4, lets filter out the data and see how the implementations with 4 threads compare to each other"
   ]
  },
  {
   "cell_type": "code",
   "execution_count": 105,
   "id": "4835e553-c3d6-401a-b8e5-b4c22117c560",
   "metadata": {},
   "outputs": [
    {
     "data": {
      "text/html": [
       "<div>\n",
       "<style scoped>\n",
       "    .dataframe tbody tr th:only-of-type {\n",
       "        vertical-align: middle;\n",
       "    }\n",
       "\n",
       "    .dataframe tbody tr th {\n",
       "        vertical-align: top;\n",
       "    }\n",
       "\n",
       "    .dataframe thead th {\n",
       "        text-align: right;\n",
       "    }\n",
       "</style>\n",
       "<table border=\"1\" class=\"dataframe\">\n",
       "  <thead>\n",
       "    <tr style=\"text-align: right;\">\n",
       "      <th></th>\n",
       "      <th>Test</th>\n",
       "      <th>Cores</th>\n",
       "      <th>Average Time (ms)</th>\n",
       "    </tr>\n",
       "  </thead>\n",
       "  <tbody>\n",
       "    <tr>\n",
       "      <th>0</th>\n",
       "      <td>Block race opt</td>\n",
       "      <td>4</td>\n",
       "      <td>0.220384</td>\n",
       "    </tr>\n",
       "    <tr>\n",
       "      <th>1</th>\n",
       "      <td>All opt</td>\n",
       "      <td>4</td>\n",
       "      <td>0.226861</td>\n",
       "    </tr>\n",
       "    <tr>\n",
       "      <th>18</th>\n",
       "      <td>Chunking</td>\n",
       "      <td>4</td>\n",
       "      <td>0.630850</td>\n",
       "    </tr>\n",
       "    <tr>\n",
       "      <th>19</th>\n",
       "      <td>Chunking res race opt</td>\n",
       "      <td>4</td>\n",
       "      <td>0.633819</td>\n",
       "    </tr>\n",
       "    <tr>\n",
       "      <th>21</th>\n",
       "      <td>Naive</td>\n",
       "      <td>4</td>\n",
       "      <td>0.645525</td>\n",
       "    </tr>\n",
       "    <tr>\n",
       "      <th>25</th>\n",
       "      <td>Res race opt</td>\n",
       "      <td>4</td>\n",
       "      <td>0.652155</td>\n",
       "    </tr>\n",
       "  </tbody>\n",
       "</table>\n",
       "</div>"
      ],
      "text/plain": [
       "                     Test Cores  Average Time (ms)\n",
       "0          Block race opt     4           0.220384\n",
       "1                 All opt     4           0.226861\n",
       "18               Chunking     4           0.630850\n",
       "19  Chunking res race opt     4           0.633819\n",
       "21                  Naive     4           0.645525\n",
       "25           Res race opt     4           0.652155"
      ]
     },
     "execution_count": 105,
     "metadata": {},
     "output_type": "execute_result"
    }
   ],
   "source": [
    "q_3 = native_df.query(\"Cores == '4'\")\n",
    "q_3"
   ]
  },
  {
   "cell_type": "markdown",
   "id": "78236cf0-8e01-4e6f-9f1b-556f36e5bc7e",
   "metadata": {},
   "source": [
    "We can see that up to the top of the table there is the block race optimization, which is in fact the fastest global algorithm with the 4 threads configuration.\n",
    "This implementation, comparing it with the naive implementation using also 4 threads, is about 3 times faster."
   ]
  },
  {
   "cell_type": "markdown",
   "id": "2f40f754-0eeb-458a-bfe2-8d806907a251",
   "metadata": {},
   "source": [
    "#### (b) Speculate how the hardware implementation is causing this result. What is it about the hardware that causes this optimization to be most important?"
   ]
  },
  {
   "cell_type": "markdown",
   "id": "c5d47f1b-8b46-4d65-bc63-34b7e20e3db2",
   "metadata": {},
   "source": [
    "The cache line width is responsible. In this case we are using blocks of 64B exclusively for each thread , in an independent form, reducing caches writes to memory."
   ]
  },
  {
   "cell_type": "markdown",
   "id": "c0ec10e8-3f8d-429c-a2dc-68207029c74a",
   "metadata": {},
   "source": [
    "## Gem5 Simulated Results"
   ]
  },
  {
   "cell_type": "markdown",
   "id": "d3f496e0-5f0d-4ef5-bf6e-cb83e90e1a81",
   "metadata": {},
   "source": [
    "For the gem5 experiments the same tests were ran in a 1,2,4,8,16 threads configuration, with the same number of elements (32768), and a default xBar latency of 10."
   ]
  },
  {
   "cell_type": "markdown",
   "id": "d79b60d5-7dbd-4573-a508-860cf32f0faa",
   "metadata": {},
   "source": [
    "### Question 4"
   ]
  },
  {
   "cell_type": "markdown",
   "id": "4bfed3ee-3d99-4172-8c35-77e0fe844390",
   "metadata": {},
   "source": [
    "#### (a) What is the speedup of algorithm 1 and speedup of algorithm 6 on 16 cores as estimated by gem5?"
   ]
  },
  {
   "cell_type": "markdown",
   "id": "ae892e5d-b8db-411a-b4a0-bc132ca0c666",
   "metadata": {},
   "source": [
    "Lets load some data related to the experiments!"
   ]
  },
  {
   "cell_type": "code",
   "execution_count": 106,
   "id": "649b79c0-0038-49b6-bd9b-b73610c7ebf1",
   "metadata": {},
   "outputs": [
    {
     "data": {
      "text/html": [
       "<div>\n",
       "<style scoped>\n",
       "    .dataframe tbody tr th:only-of-type {\n",
       "        vertical-align: middle;\n",
       "    }\n",
       "\n",
       "    .dataframe tbody tr th {\n",
       "        vertical-align: top;\n",
       "    }\n",
       "\n",
       "    .dataframe thead th {\n",
       "        text-align: right;\n",
       "    }\n",
       "</style>\n",
       "<table border=\"1\" class=\"dataframe\">\n",
       "  <thead>\n",
       "    <tr style=\"text-align: right;\">\n",
       "      <th></th>\n",
       "      <th>Test</th>\n",
       "      <th>Cores</th>\n",
       "      <th>Time Taken (s)</th>\n",
       "    </tr>\n",
       "  </thead>\n",
       "  <tbody>\n",
       "    <tr>\n",
       "      <th>1</th>\n",
       "      <td>All opt</td>\n",
       "      <td>16</td>\n",
       "      <td>0.000111</td>\n",
       "    </tr>\n",
       "    <tr>\n",
       "      <th>20</th>\n",
       "      <td>Naive</td>\n",
       "      <td>1</td>\n",
       "      <td>0.000838</td>\n",
       "    </tr>\n",
       "    <tr>\n",
       "      <th>0</th>\n",
       "      <td>All opt</td>\n",
       "      <td>1</td>\n",
       "      <td>0.000839</td>\n",
       "    </tr>\n",
       "    <tr>\n",
       "      <th>21</th>\n",
       "      <td>Naive</td>\n",
       "      <td>16</td>\n",
       "      <td>0.000917</td>\n",
       "    </tr>\n",
       "  </tbody>\n",
       "</table>\n",
       "</div>"
      ],
      "text/plain": [
       "       Test  Cores  Time Taken (s)\n",
       "1   All opt     16        0.000111\n",
       "20    Naive      1        0.000838\n",
       "0   All opt      1        0.000839\n",
       "21    Naive     16        0.000917"
      ]
     },
     "execution_count": 106,
     "metadata": {},
     "output_type": "execute_result"
    }
   ],
   "source": [
    "gem5_sim_seconds_df = pd.read_csv(f\"{results_path}/gem5/stats/simSeconds.txt\", delimiter=\",\")\n",
    "gem5_sim_seconds_df = gem5_sim_seconds_df.sort_values(by=\"Time Taken (s)\", ascending=True)\n",
    "q_5 = gem5_sim_seconds_df.query(\"(Test == 'All opt' or Test == 'Naive') and (Cores == 1 or Cores == 16)\")\n",
    "q_5"
   ]
  },
  {
   "cell_type": "markdown",
   "id": "8bce21f9-1be5-48f4-9832-7950170c8215",
   "metadata": {},
   "source": [
    "We can clearly see that the difference is abismal for the sixth algorithm: 656% speedup!"
   ]
  },
  {
   "cell_type": "markdown",
   "id": "aa513df5-3fdc-4966-89b4-53b731047797",
   "metadata": {},
   "source": [
    "For the naive algorithm it actually hurted its performance."
   ]
  },
  {
   "cell_type": "markdown",
   "id": "810962d0-3586-4e45-b1ab-232b9b26a330",
   "metadata": {},
   "source": [
    "#### (b) How does this compare to what you saw on the real system?"
   ]
  },
  {
   "cell_type": "markdown",
   "id": "d5ef771f-fb13-471f-b2d9-b809f15f8f4d",
   "metadata": {},
   "source": [
    "This behavior matches what we saw in the real world."
   ]
  },
  {
   "cell_type": "markdown",
   "id": "33cfc98d-ab74-4bc7-9d32-b83b26bf2041",
   "metadata": {},
   "source": [
    "The difference relies on the abismal difference on the x16 cores with the all optimizations enabled ( we saw an increase, but not that much!)"
   ]
  },
  {
   "cell_type": "markdown",
   "id": "68811fee-049f-47f2-8e1c-999198aa16a3",
   "metadata": {},
   "source": [
    "### Question 5"
   ]
  },
  {
   "cell_type": "markdown",
   "id": "714f3e58-1691-4f0a-94db-f959b7c81d5b",
   "metadata": {},
   "source": [
    "#### Which optimization (chunking the array, using different result addresses, or putting padding between the result addresses) has the biggest impact on the hit ratio?"
   ]
  },
  {
   "cell_type": "markdown",
   "id": "bc6b39f4-909f-4e65-9d5c-11fec583c557",
   "metadata": {},
   "source": [
    "Lets load the data. We are going to use the L1D demand hit stat (greater is better) for the first core of each implementation ( we are using 16 cores for each experiment )"
   ]
  },
  {
   "cell_type": "code",
   "execution_count": 107,
   "id": "f6966780-4a75-4e70-a26d-303119d9af2f",
   "metadata": {},
   "outputs": [],
   "source": [
    "gem5_cache_hit_ratio_df = pd.read_csv(f\"{results_path}/gem5/stats/cacheHitRatio.txt\", delimiter=\",\")\n",
    "gem5_cache_hit_ratio_df[\"Cache Hit\"] = gem5_cache_hit_ratio_df[\"Cache Hit\"].astype(float)\n",
    "gem5_cache_hit_ratio_df = gem5_cache_hit_ratio_df.sort_values(by='Cache Hit', ascending=False)"
   ]
  },
  {
   "cell_type": "code",
   "execution_count": 108,
   "id": "ffc20fbd-defc-47e1-b3bc-2e71a240050c",
   "metadata": {},
   "outputs": [
    {
     "data": {
      "text/html": [
       "<div>\n",
       "<style scoped>\n",
       "    .dataframe tbody tr th:only-of-type {\n",
       "        vertical-align: middle;\n",
       "    }\n",
       "\n",
       "    .dataframe tbody tr th {\n",
       "        vertical-align: top;\n",
       "    }\n",
       "\n",
       "    .dataframe thead th {\n",
       "        text-align: right;\n",
       "    }\n",
       "</style>\n",
       "<table border=\"1\" class=\"dataframe\">\n",
       "  <thead>\n",
       "    <tr style=\"text-align: right;\">\n",
       "      <th></th>\n",
       "      <th>Test</th>\n",
       "      <th>Cache Hit</th>\n",
       "    </tr>\n",
       "  </thead>\n",
       "  <tbody>\n",
       "    <tr>\n",
       "      <th>0</th>\n",
       "      <td>All opt</td>\n",
       "      <td>35942.0</td>\n",
       "    </tr>\n",
       "    <tr>\n",
       "      <th>3</th>\n",
       "      <td>Chunking res race opt</td>\n",
       "      <td>35721.0</td>\n",
       "    </tr>\n",
       "    <tr>\n",
       "      <th>2</th>\n",
       "      <td>Chunking</td>\n",
       "      <td>31936.0</td>\n",
       "    </tr>\n",
       "    <tr>\n",
       "      <th>1</th>\n",
       "      <td>Block race opt</td>\n",
       "      <td>29863.0</td>\n",
       "    </tr>\n",
       "    <tr>\n",
       "      <th>5</th>\n",
       "      <td>Res race opt</td>\n",
       "      <td>27570.0</td>\n",
       "    </tr>\n",
       "    <tr>\n",
       "      <th>4</th>\n",
       "      <td>Naive</td>\n",
       "      <td>25823.0</td>\n",
       "    </tr>\n",
       "  </tbody>\n",
       "</table>\n",
       "</div>"
      ],
      "text/plain": [
       "                    Test  Cache Hit\n",
       "0                All opt    35942.0\n",
       "3  Chunking res race opt    35721.0\n",
       "2               Chunking    31936.0\n",
       "1         Block race opt    29863.0\n",
       "5           Res race opt    27570.0\n",
       "4                  Naive    25823.0"
      ]
     },
     "execution_count": 108,
     "metadata": {},
     "output_type": "execute_result"
    }
   ],
   "source": [
    "q_5 = gem5_cache_hit_ratio_df\n",
    "q_5"
   ]
  },
  {
   "cell_type": "markdown",
   "id": "eb8335d3-f409-4815-bd07-0f560ca99ae8",
   "metadata": {},
   "source": [
    "The hit ratio is affected by all of them, as the all optimizations experiment had a better results than naive (we can even see that the all opt test rank the better, as each optimization contributed)"
   ]
  },
  {
   "cell_type": "markdown",
   "id": "7ee92f02-3230-47f1-90ee-81b391152b2c",
   "metadata": {},
   "source": [
    "However, individually, the chunking combined with the address change wins the battle."
   ]
  },
  {
   "cell_type": "markdown",
   "id": "fdca7029-6215-4e74-b748-1640d138f767",
   "metadata": {},
   "source": [
    "### Question 6"
   ]
  },
  {
   "cell_type": "markdown",
   "id": "6bc2349d-fe7e-434f-8a13-2bf5309f42a7",
   "metadata": {},
   "source": [
    "#### Which optimization (chunking the array, using different result addresses, or putting padding between the result addresses) has the biggest impact on the read sharing?"
   ]
  },
  {
   "cell_type": "markdown",
   "id": "fe69bd5b-26f2-417d-933b-a18543453a58",
   "metadata": {},
   "source": [
    "This question is answered comparing all the algorithms with 16 cores as the thread configuration, and checking the sum of the read sharing stats of each core."
   ]
  },
  {
   "cell_type": "code",
   "execution_count": 109,
   "id": "bdd1e1d9-3906-4feb-989a-b3577b709186",
   "metadata": {},
   "outputs": [
    {
     "data": {
      "text/html": [
       "<div>\n",
       "<style scoped>\n",
       "    .dataframe tbody tr th:only-of-type {\n",
       "        vertical-align: middle;\n",
       "    }\n",
       "\n",
       "    .dataframe tbody tr th {\n",
       "        vertical-align: top;\n",
       "    }\n",
       "\n",
       "    .dataframe thead th {\n",
       "        text-align: right;\n",
       "    }\n",
       "</style>\n",
       "<table border=\"1\" class=\"dataframe\">\n",
       "  <thead>\n",
       "    <tr style=\"text-align: right;\">\n",
       "      <th></th>\n",
       "      <th>Test</th>\n",
       "      <th>Read Sharing</th>\n",
       "    </tr>\n",
       "  </thead>\n",
       "  <tbody>\n",
       "    <tr>\n",
       "      <th>2</th>\n",
       "      <td>Chunking</td>\n",
       "      <td>194.0</td>\n",
       "    </tr>\n",
       "    <tr>\n",
       "      <th>3</th>\n",
       "      <td>Chunking res race opt</td>\n",
       "      <td>199.0</td>\n",
       "    </tr>\n",
       "    <tr>\n",
       "      <th>0</th>\n",
       "      <td>All opt</td>\n",
       "      <td>223.0</td>\n",
       "    </tr>\n",
       "    <tr>\n",
       "      <th>1</th>\n",
       "      <td>Block race</td>\n",
       "      <td>1193.0</td>\n",
       "    </tr>\n",
       "    <tr>\n",
       "      <th>4</th>\n",
       "      <td>Naive</td>\n",
       "      <td>1970.0</td>\n",
       "    </tr>\n",
       "    <tr>\n",
       "      <th>5</th>\n",
       "      <td>Res race opt</td>\n",
       "      <td>1974.0</td>\n",
       "    </tr>\n",
       "  </tbody>\n",
       "</table>\n",
       "</div>"
      ],
      "text/plain": [
       "                    Test  Read Sharing\n",
       "2               Chunking         194.0\n",
       "3  Chunking res race opt         199.0\n",
       "0                All opt         223.0\n",
       "1             Block race        1193.0\n",
       "4                  Naive        1970.0\n",
       "5           Res race opt        1974.0"
      ]
     },
     "execution_count": 109,
     "metadata": {},
     "output_type": "execute_result"
    }
   ],
   "source": [
    "gem5_read_sharing_df = pd.read_csv(f\"{results_path}/gem5/stats/readSharing.txt\", delimiter=\",\")\n",
    "gem5_read_sharing_df[\"Read Sharing\"] = gem5_read_sharing_df[\"Read Sharing\"].astype(float)\n",
    "gem5_read_sharing_df = gem5_read_sharing_df.sort_values(by='Read Sharing', ascending=True)\n",
    "q_6 = gem5_read_sharing_df\n",
    "q_6"
   ]
  },
  {
   "cell_type": "markdown",
   "id": "2d5b27b7-2ba4-4367-a08a-ffece55e866a",
   "metadata": {},
   "source": [
    "We can see that the biggest impact is made by the Chunking optimization."
   ]
  },
  {
   "cell_type": "markdown",
   "id": "a889bc85-f2cf-4b92-9411-9601e9a05080",
   "metadata": {},
   "source": [
    "### Question 7"
   ]
  },
  {
   "cell_type": "markdown",
   "id": "5be81510-c682-4171-b7f1-21656034555d",
   "metadata": {},
   "source": [
    "#### Which optimization (chunking the array, using different result addresses, or putting padding between the result addresses) has the biggest impact on the write sharing?"
   ]
  },
  {
   "cell_type": "markdown",
   "id": "ee921ee1-d0b4-4e8c-bcc8-c67ed48ba2ea",
   "metadata": {},
   "source": [
    "This question is answered comparing all the algorithms with 16 cores as the thread configuration, and checking the sum of the write sharing stats of each core."
   ]
  },
  {
   "cell_type": "code",
   "execution_count": 110,
   "id": "9533c43e-4396-40f7-88a8-8bde7ee83422",
   "metadata": {},
   "outputs": [
    {
     "data": {
      "text/html": [
       "<div>\n",
       "<style scoped>\n",
       "    .dataframe tbody tr th:only-of-type {\n",
       "        vertical-align: middle;\n",
       "    }\n",
       "\n",
       "    .dataframe tbody tr th {\n",
       "        vertical-align: top;\n",
       "    }\n",
       "\n",
       "    .dataframe thead th {\n",
       "        text-align: right;\n",
       "    }\n",
       "</style>\n",
       "<table border=\"1\" class=\"dataframe\">\n",
       "  <thead>\n",
       "    <tr style=\"text-align: right;\">\n",
       "      <th></th>\n",
       "      <th>Test</th>\n",
       "      <th>Write Sharing</th>\n",
       "    </tr>\n",
       "  </thead>\n",
       "  <tbody>\n",
       "    <tr>\n",
       "      <th>1</th>\n",
       "      <td>Block race</td>\n",
       "      <td>152.0</td>\n",
       "    </tr>\n",
       "    <tr>\n",
       "      <th>0</th>\n",
       "      <td>All opt</td>\n",
       "      <td>186.0</td>\n",
       "    </tr>\n",
       "    <tr>\n",
       "      <th>3</th>\n",
       "      <td>Chunking res race opt</td>\n",
       "      <td>32735.0</td>\n",
       "    </tr>\n",
       "    <tr>\n",
       "      <th>5</th>\n",
       "      <td>Res race opt</td>\n",
       "      <td>32774.0</td>\n",
       "    </tr>\n",
       "    <tr>\n",
       "      <th>2</th>\n",
       "      <td>Chunking</td>\n",
       "      <td>32820.0</td>\n",
       "    </tr>\n",
       "    <tr>\n",
       "      <th>4</th>\n",
       "      <td>Naive</td>\n",
       "      <td>32864.0</td>\n",
       "    </tr>\n",
       "  </tbody>\n",
       "</table>\n",
       "</div>"
      ],
      "text/plain": [
       "                    Test  Write Sharing\n",
       "1             Block race          152.0\n",
       "0                All opt          186.0\n",
       "3  Chunking res race opt        32735.0\n",
       "5           Res race opt        32774.0\n",
       "2               Chunking        32820.0\n",
       "4                  Naive        32864.0"
      ]
     },
     "execution_count": 110,
     "metadata": {},
     "output_type": "execute_result"
    }
   ],
   "source": [
    "gem5_write_sharing_df = pd.read_csv(f\"{results_path}/gem5/stats/writeSharing.txt\", delimiter=\",\")\n",
    "gem5_write_sharing_df[\"Write Sharing\"] = gem5_write_sharing_df[\"Write Sharing\"].astype(float)\n",
    "gem5_write_sharing_df = gem5_write_sharing_df.sort_values(by='Write Sharing', ascending=True)\n",
    "q_7 = gem5_write_sharing_df\n",
    "q_7"
   ]
  },
  {
   "cell_type": "markdown",
   "id": "0f437508-8be3-4e51-ac35-5d978b66911d",
   "metadata": {},
   "source": [
    "We can see that the biggest impact is made by the Block race optimization (by far, and the only one that made something)."
   ]
  },
  {
   "cell_type": "markdown",
   "id": "b57459eb-29c6-4dee-86c0-a477dd484135",
   "metadata": {},
   "source": [
    "### Question 8"
   ]
  },
  {
   "cell_type": "markdown",
   "id": "98c1deaa-e87d-4775-a25a-19aac335984b",
   "metadata": {},
   "source": [
    "#### (a) Out of the three characteristics we have looked at, the L1 hit ratio, the read sharing, or the write sharing, which is most important for determining performance?"
   ]
  },
  {
   "cell_type": "markdown",
   "id": "407a9726-5a53-4c87-aa80-2cb29a938bd0",
   "metadata": {},
   "source": [
    "Looking at the global table and seeing that the Block race optimization performed the best, and seeing the brutal difference in the write sharing table, I can conclude that the write sharing stat is the most important characteristic to look when determining performance. This makes sense, as every time a core write to a shared cache line, all the threads halt to let this cache coherence take place."
   ]
  },
  {
   "cell_type": "markdown",
   "id": "29840f44-ae88-441f-9f6a-3e045f4ede64",
   "metadata": {},
   "source": [
    "#### (b) Using data from the gem5 simulations, now answer what hardware characteristic causes the most important optimization to be the most important."
   ]
  },
  {
   "cell_type": "markdown",
   "id": "f653e500-80b8-47f5-b608-eda018114f3e",
   "metadata": {},
   "source": [
    "As we just said, a good cache coherence in your cache hierarchy is the best optimization to gain performance."
   ]
  },
  {
   "cell_type": "markdown",
   "id": "ac010917-cdf9-4d30-8f82-193ec20324e0",
   "metadata": {},
   "source": [
    "### Question 9"
   ]
  },
  {
   "cell_type": "markdown",
   "id": "827c7a40-be34-4fc0-8587-9ab166cdad45",
   "metadata": {},
   "source": [
    "#### As you increase the cache-to-cache latency, how does it affect the importance of the different optimizations?"
   ]
  },
  {
   "cell_type": "markdown",
   "id": "fe7b8ede-aaf4-4707-8869-2633503a5ef6",
   "metadata": {},
   "source": [
    "We ran naive and all opt tests, with same number of cores, with x bar latency of 1, 10, and 25."
   ]
  },
  {
   "cell_type": "code",
   "execution_count": 111,
   "id": "aff98abe-2c4d-4228-9f0a-382d616b4519",
   "metadata": {},
   "outputs": [],
   "source": [
    "gem5_x_bar_latency_df = pd.read_csv(f\"{results_path}/gem5/stats/simSecondsXBar.txt\", delimiter=\",\")\n",
    "gem5_x_bar_latency_df[\"Time Taken (s)\"] = gem5_x_bar_latency_df[\"Time Taken (s)\"].astype(float)\n",
    "gem5_x_bar_latency_df = gem5_x_bar_latency_df.sort_values(by='Time Taken (s)', ascending=True)"
   ]
  },
  {
   "cell_type": "code",
   "execution_count": 112,
   "id": "ef19c8ed-227f-434f-8012-651d31f0b64a",
   "metadata": {},
   "outputs": [
    {
     "data": {
      "text/html": [
       "<div>\n",
       "<style scoped>\n",
       "    .dataframe tbody tr th:only-of-type {\n",
       "        vertical-align: middle;\n",
       "    }\n",
       "\n",
       "    .dataframe tbody tr th {\n",
       "        vertical-align: top;\n",
       "    }\n",
       "\n",
       "    .dataframe thead th {\n",
       "        text-align: right;\n",
       "    }\n",
       "</style>\n",
       "<table border=\"1\" class=\"dataframe\">\n",
       "  <thead>\n",
       "    <tr style=\"text-align: right;\">\n",
       "      <th></th>\n",
       "      <th>Test</th>\n",
       "      <th>X Bar Latency</th>\n",
       "      <th>Time Taken (s)</th>\n",
       "    </tr>\n",
       "  </thead>\n",
       "  <tbody>\n",
       "    <tr>\n",
       "      <th>3</th>\n",
       "      <td>All opt</td>\n",
       "      <td>1</td>\n",
       "      <td>0.000226</td>\n",
       "    </tr>\n",
       "    <tr>\n",
       "      <th>4</th>\n",
       "      <td>All opt</td>\n",
       "      <td>10</td>\n",
       "      <td>0.000236</td>\n",
       "    </tr>\n",
       "    <tr>\n",
       "      <th>5</th>\n",
       "      <td>All opt</td>\n",
       "      <td>25</td>\n",
       "      <td>0.000251</td>\n",
       "    </tr>\n",
       "    <tr>\n",
       "      <th>0</th>\n",
       "      <td>Naive</td>\n",
       "      <td>1</td>\n",
       "      <td>0.000347</td>\n",
       "    </tr>\n",
       "    <tr>\n",
       "      <th>1</th>\n",
       "      <td>Naive</td>\n",
       "      <td>10</td>\n",
       "      <td>0.000818</td>\n",
       "    </tr>\n",
       "    <tr>\n",
       "      <th>2</th>\n",
       "      <td>Naive</td>\n",
       "      <td>25</td>\n",
       "      <td>0.000958</td>\n",
       "    </tr>\n",
       "  </tbody>\n",
       "</table>\n",
       "</div>"
      ],
      "text/plain": [
       "      Test  X Bar Latency  Time Taken (s)\n",
       "3  All opt              1        0.000226\n",
       "4  All opt             10        0.000236\n",
       "5  All opt             25        0.000251\n",
       "0    Naive              1        0.000347\n",
       "1    Naive             10        0.000818\n",
       "2    Naive             25        0.000958"
      ]
     },
     "execution_count": 112,
     "metadata": {},
     "output_type": "execute_result"
    }
   ],
   "source": [
    "q_9 = gem5_x_bar_latency_df\n",
    "q_9"
   ]
  },
  {
   "cell_type": "markdown",
   "id": "07f6dbc3-d5d5-474e-9316-6b96de23b64e",
   "metadata": {},
   "source": [
    "We can see that the X Bar latency has a huge impact on the performance, outweighting the importance of the optimizations."
   ]
  },
  {
   "cell_type": "markdown",
   "id": "3100f2fa-3f07-40ea-92da-59c0991e1c6e",
   "metadata": {},
   "source": [
    "If we reduce to a minimum of 1 this latency, the 2 algorithms are not that far from each other, even after all our optimization work!"
   ]
  }
 ],
 "metadata": {
  "kernelspec": {
   "display_name": "Python 3 (ipykernel)",
   "language": "python",
   "name": "python3"
  },
  "language_info": {
   "codemirror_mode": {
    "name": "ipython",
    "version": 3
   },
   "file_extension": ".py",
   "mimetype": "text/x-python",
   "name": "python",
   "nbconvert_exporter": "python",
   "pygments_lexer": "ipython3",
   "version": "3.13.0"
  }
 },
 "nbformat": 4,
 "nbformat_minor": 5
}
